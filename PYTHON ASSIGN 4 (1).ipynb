{
 "cells": [
  {
   "cell_type": "markdown",
   "id": "c125b7a5-b7ad-447f-9b16-b85c7bf82d70",
   "metadata": {},
   "source": [
    "# Assignment-4"
   ]
  },
  {
   "cell_type": "code",
   "execution_count": null,
   "id": "9bfb6014-7e9a-4c95-907a-500d6d4b8af3",
   "metadata": {},
   "outputs": [],
   "source": [
    "####  1.Write a Python program that checks if a number entered by the user is even or odd.\n",
    "#### Print \"Even\" if the number is even and \"Odd\" if it is odd."
   ]
  },
  {
   "cell_type": "code",
   "execution_count": 1,
   "id": "80cfed51-1a86-456f-85db-4c5709b6b2df",
   "metadata": {},
   "outputs": [
    {
     "name": "stdin",
     "output_type": "stream",
     "text": [
      " 9\n"
     ]
    },
    {
     "name": "stdout",
     "output_type": "stream",
     "text": [
      "Odd\n"
     ]
    }
   ],
   "source": [
    "num = int(input())\n",
    "\n",
    "if num%2 == 0:\n",
    "    print(\"Even\")\n",
    "else:\n",
    "    print(\"Odd\")"
   ]
  },
  {
   "cell_type": "code",
   "execution_count": null,
   "id": "6d70dc3b-d2e3-4498-8dbe-e57da470a3dc",
   "metadata": {},
   "outputs": [],
   "source": [
    "#### 2.Create a program that prompts the user for their age. \n",
    "#### Print whether they are a child (0-12), teenager (13-19), or adult (20 and above)"
   ]
  },
  {
   "cell_type": "code",
   "execution_count": 5,
   "id": "173876d1-9807-4f61-bd61-60f7122d51e5",
   "metadata": {},
   "outputs": [
    {
     "name": "stdin",
     "output_type": "stream",
     "text": [
      " 23\n"
     ]
    },
    {
     "name": "stdout",
     "output_type": "stream",
     "text": [
      "adult\n"
     ]
    }
   ],
   "source": [
    "age = int(input())\n",
    "\n",
    "if 0 <=  age <= 12:\n",
    "    print(\"child\")\n",
    "if 13 <= age <= 19:\n",
    "    print(\"teenager\")\n",
    "else:\n",
    "    print(\"adult\")"
   ]
  },
  {
   "cell_type": "code",
   "execution_count": null,
   "id": "5e237b3a-3eda-4cef-a505-31b1664ee888",
   "metadata": {},
   "outputs": [],
   "source": [
    "#### 3.Write a program that takes two numbers as input from the user and prints which number is larger. \n",
    "#### If both numbers are equal, print \"Both numbers are equal.\""
   ]
  },
  {
   "cell_type": "code",
   "execution_count": 9,
   "id": "40cbb118-97d3-4bd0-93c8-07608d667360",
   "metadata": {},
   "outputs": [
    {
     "name": "stdin",
     "output_type": "stream",
     "text": [
      " 22\n",
      " 33\n"
     ]
    },
    {
     "name": "stdout",
     "output_type": "stream",
     "text": [
      "second number is larger\n"
     ]
    }
   ],
   "source": [
    "num1 = int(input())\n",
    "num2 = int(input())\n",
    "\n",
    "if num1 > num2:\n",
    "    print(\"first number is larger\")\n",
    "if num1 < num2:\n",
    "    print(\"second number is larger\")\n",
    "else:\n",
    "    print(\"Both numbers are equal\")"
   ]
  },
  {
   "cell_type": "code",
   "execution_count": null,
   "id": "13f38cb5-f332-487b-bde7-1b8879b43571",
   "metadata": {},
   "outputs": [],
   "source": [
    "#### 4.Create a program that checks if a user-entered password matches the string \"securePassword\". \n",
    "#### Print \"Access Granted\" if it matches, otherwise print \"Access Denied.\""
   ]
  },
  {
   "cell_type": "code",
   "execution_count": 8,
   "id": "9e6e84d2-4ea3-4c57-8b71-07179379c3f6",
   "metadata": {},
   "outputs": [
    {
     "name": "stdin",
     "output_type": "stream",
     "text": [
      " OMAR@333\n"
     ]
    },
    {
     "name": "stdout",
     "output_type": "stream",
     "text": [
      "Access Denied\n"
     ]
    }
   ],
   "source": [
    "user_pass = \"securePassword\"\n",
    "enter_pass = input()\n",
    "\n",
    "if user_pass == enter_pass:\n",
    "    print(\"Access Granted\")\n",
    "else:\n",
    "    print(\"Access Denied\")"
   ]
  },
  {
   "cell_type": "code",
   "execution_count": null,
   "id": "46f39750-06ba-4576-9637-44cefe2bc258",
   "metadata": {},
   "outputs": [],
   "source": [
    "#### 5.Write a program that takes a score from the user (0-100) and prints\n",
    "#### corresponding grade:\n",
    "A for 90-10\n",
    "B for 80-8\n",
    "C for 70-7\n",
    "D for 60-6\n",
    "F for below 60"
   ]
  },
  {
   "cell_type": "code",
   "execution_count": 7,
   "id": "d9983b8f-758e-4b4d-9cf9-22835b236181",
   "metadata": {},
   "outputs": [
    {
     "name": "stdin",
     "output_type": "stream",
     "text": [
      " 70\n"
     ]
    },
    {
     "name": "stdout",
     "output_type": "stream",
     "text": [
      "C\n"
     ]
    }
   ],
   "source": [
    "score = int(input())\n",
    "\n",
    "if 90 <= score <= 100:\n",
    "    print(\"A\")\n",
    "elif 80 <= score <= 89:\n",
    "    print(\"B\")\n",
    "elif 70 <= score <= 79:\n",
    "    print(\"C\")\n",
    "elif 60 <= score <= 69:\n",
    "    print(\"D\")\n",
    "else:\n",
    "    print(\"F\")"
   ]
  },
  {
   "cell_type": "code",
   "execution_count": null,
   "id": "322e9bd7-90f3-4b15-8656-9ea86d2cb91a",
   "metadata": {},
   "outputs": [],
   "source": [
    "#### 6.Create a program that asks the user for a number and checks if it is positive, negative, or zero.Print the corresponding message."
   ]
  },
  {
   "cell_type": "code",
   "execution_count": 5,
   "id": "7432b305-4e8b-4833-8a01-9b0c51805d9c",
   "metadata": {},
   "outputs": [
    {
     "name": "stdin",
     "output_type": "stream",
     "text": [
      " -69\n"
     ]
    },
    {
     "name": "stdout",
     "output_type": "stream",
     "text": [
      "negative\n"
     ]
    }
   ],
   "source": [
    "num = float(input())\n",
    "\n",
    "if num > 0:\n",
    "    print(\"positive\")\n",
    "elif num < 0:\n",
    "    print(\"negative\")\n",
    "else:\n",
    "    print(\"zero\")"
   ]
  },
  {
   "cell_type": "code",
   "execution_count": null,
   "id": "818a870d-8608-4e25-85e1-e38fc1813a3e",
   "metadata": {},
   "outputs": [],
   "source": [
    "#### 7.Write a program that takes three numbers from the user and determines the largest of the three. \n",
    "#### Print the largest number."
   ]
  },
  {
   "cell_type": "code",
   "execution_count": 4,
   "id": "d669fca3-2dbf-4916-9b3a-9bec5018fbe2",
   "metadata": {},
   "outputs": [
    {
     "name": "stdin",
     "output_type": "stream",
     "text": [
      "a= 10\n",
      "b= 01\n",
      "c= 02\n"
     ]
    },
    {
     "name": "stdout",
     "output_type": "stream",
     "text": [
      "a is larger num\n"
     ]
    }
   ],
   "source": [
    "a = int(input(\"a=\"))\n",
    "b = int(input(\"b=\"))\n",
    "c = int(input(\"c=\"))\n",
    "\n",
    "if a > b and a > c:\n",
    "    print(\"a is larger num\")\n",
    "elif b > a and b > c:\n",
    "    print(\"b is larger num\")\n",
    "else:\n",
    "    print(\"c is larger num\")"
   ]
  },
  {
   "cell_type": "code",
   "execution_count": null,
   "id": "965a98f6-d875-49f8-9fa1-0aed09419327",
   "metadata": {},
   "outputs": [],
   "source": [
    "#### 8.Create a program that checks if a user-entered character is a vowel (a, e, i, o, u) or a consonant.\n",
    "#### Print the corresponding message."
   ]
  },
  {
   "cell_type": "code",
   "execution_count": 3,
   "id": "801f5272-f86f-494a-9efb-a3f42655a677",
   "metadata": {},
   "outputs": [
    {
     "name": "stdin",
     "output_type": "stream",
     "text": [
      " O\n"
     ]
    },
    {
     "name": "stdout",
     "output_type": "stream",
     "text": [
      "Consonant\n"
     ]
    }
   ],
   "source": [
    "v = input()\n",
    "  \n",
    "if (v == 'a' or v == 'e' or v == 'i' or v == 'o' or v == 'u'): \n",
    "    print(\"Vowel\") \n",
    "else: \n",
    "    print(\"Consonant\")"
   ]
  },
  {
   "cell_type": "code",
   "execution_count": null,
   "id": "ca2c06bc-27a8-4599-b80a-d74f586e781e",
   "metadata": {},
   "outputs": [],
   "source": [
    "#### 9.Write a program that checks if a given year is a leap year. A year is a leap year if it is divisible by 4, \n",
    "#### except for years that are divisible by 100 but not divisible by 400."
   ]
  },
  {
   "cell_type": "code",
   "execution_count": 21,
   "id": "e5effe8c-f19f-4043-ac50-36caf7da4549",
   "metadata": {},
   "outputs": [
    {
     "name": "stdin",
     "output_type": "stream",
     "text": [
      " 2025\n"
     ]
    },
    {
     "name": "stdout",
     "output_type": "stream",
     "text": [
      "Not a leap year\n"
     ]
    }
   ],
   "source": [
    "i = int(input())\n",
    "\n",
    "if i%400 == 0:\n",
    "    print(\"leapyear\")\n",
    "elif i% 4 == 0 and i % 100 != 0:\n",
    "    print(\"leapyear\")\n",
    "    \n",
    "else:\n",
    "    print(\"Not a leap year\")"
   ]
  },
  {
   "cell_type": "code",
   "execution_count": null,
   "id": "e7c14121-4551-41e6-9d9b-027c5c864da3",
   "metadata": {},
   "outputs": [],
   "source": [
    "#### 10.Create a program that prompts the user for a temperature in Celsius and converts it to Fahrenheit. If the converted temperature is greater than 100°F,\n",
    "#### print \"It's boiling!\" Otherwise, print \"It's not boiling yet.\""
   ]
  },
  {
   "cell_type": "code",
   "execution_count": 2,
   "id": "3276ce8a-ec62-4bb4-8243-f0348dbbc320",
   "metadata": {},
   "outputs": [
    {
     "name": "stdin",
     "output_type": "stream",
     "text": [
      " 69\n"
     ]
    },
    {
     "name": "stdout",
     "output_type": "stream",
     "text": [
      "156.2\n",
      "It's Boiling\n"
     ]
    }
   ],
   "source": [
    "C = int(input())\n",
    "F = C * 9/5 + 32\n",
    "print(F)\n",
    "\n",
    "if F >= 100:\n",
    "    print(\"It's Boiling\")\n",
    "else:\n",
    "    print(\"its not boiling\")"
   ]
  },
  {
   "cell_type": "code",
   "execution_count": null,
   "id": "225379b9-083c-4093-a91a-9c7041df908e",
   "metadata": {},
   "outputs": [],
   "source": []
  }
 ],
 "metadata": {
  "kernelspec": {
   "display_name": "Python 3 (ipykernel)",
   "language": "python",
   "name": "python3"
  },
  "language_info": {
   "codemirror_mode": {
    "name": "ipython",
    "version": 3
   },
   "file_extension": ".py",
   "mimetype": "text/x-python",
   "name": "python",
   "nbconvert_exporter": "python",
   "pygments_lexer": "ipython3",
   "version": "3.12.7"
  }
 },
 "nbformat": 4,
 "nbformat_minor": 5
}
