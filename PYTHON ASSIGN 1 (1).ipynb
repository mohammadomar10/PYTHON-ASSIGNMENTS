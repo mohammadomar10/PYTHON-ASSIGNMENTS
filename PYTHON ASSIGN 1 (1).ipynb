{
 "cells": [
  {
   "cell_type": "markdown",
   "id": "e2d104e1-77bc-4833-8c46-7624ebf6fe2c",
   "metadata": {},
   "source": [
    "# Assignment 1"
   ]
  },
  {
   "cell_type": "code",
   "execution_count": null,
   "id": "70f2ffd1-1ea3-40a0-962d-8d5a3a3b6b59",
   "metadata": {},
   "outputs": [],
   "source": [
    "# 1.Write a Python program to print your name and favourite colour on two  separate lines."
   ]
  },
  {
   "cell_type": "code",
   "execution_count": 1,
   "id": "d9e6b8d7-eb63-4c88-ad0b-2e033d47ccd9",
   "metadata": {},
   "outputs": [
    {
     "name": "stdout",
     "output_type": "stream",
     "text": [
      "OMAR\n",
      "BLACK\n"
     ]
    }
   ],
   "source": [
    "print(\"OMAR\")\n",
    "print(\"BLACK\")"
   ]
  },
  {
   "cell_type": "code",
   "execution_count": null,
   "id": "aeb48223-186c-4434-88b7-65bb54c6dbbc",
   "metadata": {},
   "outputs": [],
   "source": [
    "# 2.Write a Python program that prints the result of adding 7 and 8."
   ]
  },
  {
   "cell_type": "code",
   "execution_count": 4,
   "id": "3d069073-22d0-40b5-a548-f5603f3bea60",
   "metadata": {},
   "outputs": [
    {
     "name": "stdout",
     "output_type": "stream",
     "text": [
      "15\n"
     ]
    }
   ],
   "source": [
    "result = 7 + 8\n",
    "print(result)"
   ]
  },
  {
   "cell_type": "code",
   "execution_count": null,
   "id": "b53ca912-d959-46a5-9c43-02835c858325",
   "metadata": {},
   "outputs": [],
   "source": [
    "# 3.Use the print function to display the following text exactly as it is:\n",
    "Python is fun!\n",
    "\n",
    "Let's learn together."
   ]
  },
  {
   "cell_type": "code",
   "execution_count": 5,
   "id": "86ec24c9-f6d8-4ab1-9d50-a0c060541827",
   "metadata": {},
   "outputs": [
    {
     "name": "stdout",
     "output_type": "stream",
     "text": [
      "Python is fun!\n",
      "Let's learn together.\n"
     ]
    }
   ],
   "source": [
    "print(\"Python is fun!\\nLet's learn together.\")"
   ]
  },
  {
   "cell_type": "code",
   "execution_count": null,
   "id": "58c7c386-2a71-4738-8e0c-011ef6064021",
   "metadata": {},
   "outputs": [],
   "source": [
    "# 4.Write a Python program to calculate and print the result of multiplying 6 by 9."
   ]
  },
  {
   "cell_type": "code",
   "execution_count": 6,
   "id": "65fd5d0a-61fc-4d04-afff-a2c9d19335e5",
   "metadata": {},
   "outputs": [
    {
     "name": "stdout",
     "output_type": "stream",
     "text": [
      "54\n"
     ]
    }
   ],
   "source": [
    "num1 = 6\n",
    "num2 = 9\n",
    "\n",
    "result = num1 * num2\n",
    "\n",
    "print(result)"
   ]
  },
  {
   "cell_type": "code",
   "execution_count": null,
   "id": "5c594831-09a2-4c0e-ae4f-758739dc62ab",
   "metadata": {},
   "outputs": [],
   "source": [
    "# 5.Write a Python program that prints the result of adding 5 5 an multiplying 2 3 in a single line of code"
   ]
  },
  {
   "cell_type": "code",
   "execution_count": 1,
   "id": "fd539a3f-4bb8-40eb-bb37-d174f501c762",
   "metadata": {},
   "outputs": [
    {
     "name": "stdout",
     "output_type": "stream",
     "text": [
      "Add= 10 Multiply= 6\n"
     ]
    }
   ],
   "source": [
    "print(\"Add=\", 5 + 5, \"Multiply=\", 2 * 3)"
   ]
  },
  {
   "cell_type": "code",
   "execution_count": 10,
   "id": "8bf00014-69ab-4c48-960d-ce2a2f22ab32",
   "metadata": {},
   "outputs": [],
   "source": [
    "# 1.Take the name A as input from the user and print \"Hello A\", where A the name in input."
   ]
  },
  {
   "cell_type": "code",
   "execution_count": 3,
   "id": "f0bce321-7eb2-4b9c-be43-93f014c65ed4",
   "metadata": {},
   "outputs": [
    {
     "name": "stdin",
     "output_type": "stream",
     "text": [
      " OMAR \n"
     ]
    },
    {
     "name": "stdout",
     "output_type": "stream",
     "text": [
      "Hello OMAR \n"
     ]
    }
   ],
   "source": [
    "A = input()\n",
    "print(\"Hello\", A)"
   ]
  },
  {
   "cell_type": "code",
   "execution_count": null,
   "id": "df6dd584-76aa-4c60-bf0b-4f75e7cb1d58",
   "metadata": {},
   "outputs": [],
   "source": [
    "# 2.You have x rupees in your savings. You google pay y rupees, print your bank balance"
   ]
  },
  {
   "cell_type": "code",
   "execution_count": 13,
   "id": "c7934546-ae71-44ec-bd00-c170db0eb91f",
   "metadata": {},
   "outputs": [
    {
     "name": "stdin",
     "output_type": "stream",
     "text": [
      "saving 500\n",
      "gpay amount 200\n"
     ]
    },
    {
     "name": "stdout",
     "output_type": "stream",
     "text": [
      "300.0\n"
     ]
    }
   ],
   "source": [
    "x = float(input(\"saving\"))\n",
    "y = float(input(\"gpay amount\"))\n",
    "\n",
    "bank_balance = x-y\n",
    "\n",
    "print(bank_balance)"
   ]
  },
  {
   "cell_type": "code",
   "execution_count": null,
   "id": "bd515e5f-d4a8-4ed7-b1f6-862b860c808f",
   "metadata": {},
   "outputs": [],
   "source": [
    "# 3.Print the first five letters of the English alphabet i.e. A, B, C, D and E.one below each other"
   ]
  },
  {
   "cell_type": "code",
   "execution_count": 14,
   "id": "6cc2bd26-ce39-4b29-baed-096fec26a26a",
   "metadata": {},
   "outputs": [
    {
     "name": "stdout",
     "output_type": "stream",
     "text": [
      "A\n",
      "B\n",
      "C\n",
      "D\n",
      "E\n"
     ]
    }
   ],
   "source": [
    "print(\"A\")\n",
    "print(\"B\")\n",
    "print(\"C\")\n",
    "print(\"D\")\n",
    "print(\"E\")"
   ]
  },
  {
   "cell_type": "code",
   "execution_count": null,
   "id": "d1cce1fd-7549-4667-9da6-194bd829be7d",
   "metadata": {},
   "outputs": [],
   "source": [
    "# 4.Take two names A and B as input from the user, and print \"A says Hi to B\" (Without quotations), where A and B are the names in input."
   ]
  },
  {
   "cell_type": "code",
   "execution_count": 5,
   "id": "a31742d0-1fdb-4440-afaf-588539389e04",
   "metadata": {},
   "outputs": [
    {
     "name": "stdin",
     "output_type": "stream",
     "text": [
      " OMAR \n",
      " FAHED\n"
     ]
    },
    {
     "name": "stdout",
     "output_type": "stream",
     "text": [
      "OMAR  says Hi to FAHED\n"
     ]
    }
   ],
   "source": [
    "A = input()\n",
    "B = input()\n",
    "print(A, \"says Hi to\", B)"
   ]
  },
  {
   "cell_type": "code",
   "execution_count": null,
   "id": "1ff87d54-273c-40fa-848e-dd2d0f14e0e9",
   "metadata": {},
   "outputs": [],
   "source": []
  }
 ],
 "metadata": {
  "kernelspec": {
   "display_name": "Python 3 (ipykernel)",
   "language": "python",
   "name": "python3"
  },
  "language_info": {
   "codemirror_mode": {
    "name": "ipython",
    "version": 3
   },
   "file_extension": ".py",
   "mimetype": "text/x-python",
   "name": "python",
   "nbconvert_exporter": "python",
   "pygments_lexer": "ipython3",
   "version": "3.12.7"
  }
 },
 "nbformat": 4,
 "nbformat_minor": 5
}
