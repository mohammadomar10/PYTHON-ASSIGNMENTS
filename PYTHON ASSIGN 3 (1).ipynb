{
 "cells": [
  {
   "cell_type": "markdown",
   "id": "73eea1ea-adfe-47aa-896a-d1d1cf7806fa",
   "metadata": {},
   "source": [
    "# Assignment 3"
   ]
  },
  {
   "cell_type": "code",
   "execution_count": null,
   "id": "0864fd22-7782-49ce-a285-eb3364a6794b",
   "metadata": {},
   "outputs": [],
   "source": [
    "# 1.Create a variable x with the value 15 . Perform floored division by 4 and print the result. What is the difference between floored division and normal division?"
   ]
  },
  {
   "cell_type": "code",
   "execution_count": 5,
   "id": "46c8a5aa-7c48-4efb-8ff8-90774a9257b0",
   "metadata": {},
   "outputs": [
    {
     "name": "stdout",
     "output_type": "stream",
     "text": [
      "3.75\n"
     ]
    }
   ],
   "source": [
    "x = 15\n",
    "print(x/4)"
   ]
  },
  {
   "cell_type": "code",
   "execution_count": 6,
   "id": "8ce344f9-4254-47ee-aa1d-31e8bd251442",
   "metadata": {},
   "outputs": [
    {
     "name": "stdout",
     "output_type": "stream",
     "text": [
      "3\n"
     ]
    }
   ],
   "source": [
    "x = 15\n",
    "print(x%4)"
   ]
  },
  {
   "cell_type": "code",
   "execution_count": 4,
   "id": "981eb0b7-63b0-4267-be9f-791fb83e9d8a",
   "metadata": {},
   "outputs": [
    {
     "name": "stdout",
     "output_type": "stream",
     "text": [
      "normal division return a float value while floored division returns value in int type\n"
     ]
    }
   ],
   "source": [
    "print(\"normal division return a float value while floored division returns value in int type\")"
   ]
  },
  {
   "cell_type": "code",
   "execution_count": null,
   "id": "8049a2b3-9c64-4087-a496-121005d649d5",
   "metadata": {},
   "outputs": [],
   "source": [
    "# 2.Write a program to calculate 8 ** 2 and 16 ** 0.5 . Print both results and describe what each represents."
   ]
  },
  {
   "cell_type": "code",
   "execution_count": 4,
   "id": "d8ce046d-5e05-4c04-ab13-b94ab89f65dd",
   "metadata": {},
   "outputs": [
    {
     "name": "stdout",
     "output_type": "stream",
     "text": [
      "64\n",
      "4.0\n",
      "8 ** 2 represents 8 squared, which is 64.\n",
      "16 ** 0.5 represents the square root of 16, which is 4.\n"
     ]
    }
   ],
   "source": [
    "x = 8 ** 2\n",
    "\n",
    "y = 16 ** 0.5\n",
    "\n",
    "print(x)\n",
    "print(y)\n",
    "\n",
    "print(\"8 ** 2 represents 8 squared, which is 64.\")\n",
    "print(\"16 ** 0.5 represents the square root of 16, which is 4.\")"
   ]
  },
  {
   "cell_type": "code",
   "execution_count": null,
   "id": "81a90887-ef03-4bef-8d08-5314e8bf5099",
   "metadata": {},
   "outputs": [],
   "source": [
    "# 3.Use arithmetic operators to solve the following expression: 20 - 5 * 3 + 8 / 4 . Use parentheses to make sure the addition happens before multiplication. Print the output."
   ]
  },
  {
   "cell_type": "code",
   "execution_count": 7,
   "id": "871a2c0a-f3f3-4377-a0b7-c653978bf143",
   "metadata": {},
   "outputs": [
    {
     "data": {
      "text/plain": [
       "6.25"
      ]
     },
     "execution_count": 7,
     "metadata": {},
     "output_type": "execute_result"
    }
   ],
   "source": [
    "20 - 5 * (3 + 8) / 4"
   ]
  },
  {
   "cell_type": "code",
   "execution_count": null,
   "id": "991d11ea-3da8-406d-bc9f-7a456c5e9100",
   "metadata": {},
   "outputs": [],
   "source": [
    "# 4.Assign the value 7 to a variable num . Convert it to a float and print the result. What is the difference between 7 and 7.0 ?"
   ]
  },
  {
   "cell_type": "code",
   "execution_count": 12,
   "id": "9fc0dd8b-13c7-4554-b940-ea7e0ba3e854",
   "metadata": {},
   "outputs": [
    {
     "name": "stdout",
     "output_type": "stream",
     "text": [
      "7\n",
      "7.0\n"
     ]
    },
    {
     "data": {
      "text/plain": [
       "float"
      ]
     },
     "execution_count": 12,
     "metadata": {},
     "output_type": "execute_result"
    }
   ],
   "source": [
    "num = 7\n",
    "num_f = 7.0\n",
    "print(num)\n",
    "type(num)\n",
    "print(num_f)\n",
    "type(num_f)"
   ]
  },
  {
   "cell_type": "code",
   "execution_count": null,
   "id": "212daa7b-f395-4fcb-8beb-5a0ce106b174",
   "metadata": {},
   "outputs": [],
   "source": [
    "# 5.Use a comparison operator to check if 100 is greater than 50 . Print the result and indicate what type of value this is."
   ]
  },
  {
   "cell_type": "code",
   "execution_count": 14,
   "id": "1187fa5a-143b-4c47-a8b1-f73f45d341be",
   "metadata": {},
   "outputs": [
    {
     "name": "stdout",
     "output_type": "stream",
     "text": [
      "True\n"
     ]
    },
    {
     "data": {
      "text/plain": [
       "bool"
      ]
     },
     "execution_count": 14,
     "metadata": {},
     "output_type": "execute_result"
    }
   ],
   "source": [
    "a = (100 > 50)\n",
    "print(a)\n",
    "type(a)"
   ]
  },
  {
   "cell_type": "code",
   "execution_count": null,
   "id": "8211f3b4-0cd5-4164-b4db-80ad32247523",
   "metadata": {},
   "outputs": [],
   "source": [
    "# 6.Assign True to a variable is_sunny and False to is_weekend . Use logical operators to check if it is sunny and the weekend ( is_sunny and is_weekend ).  Print the result.\n"
   ]
  },
  {
   "cell_type": "code",
   "execution_count": 17,
   "id": "3b94b2e2-eb97-4ae9-ab88-f3c7faadce70",
   "metadata": {},
   "outputs": [
    {
     "name": "stdout",
     "output_type": "stream",
     "text": [
      "False\n"
     ]
    }
   ],
   "source": [
    "is_sunny = True\n",
    "is_weekend = False\n",
    "print(is_sunny and is_weekend)"
   ]
  },
  {
   "cell_type": "code",
   "execution_count": null,
   "id": "4622385b-aacd-4dc5-91b9-ddcfb9d6ef01",
   "metadata": {},
   "outputs": [],
   "source": [
    "# 7.Create a variable password and set it to \"my_password123\" . Ask the user to input a password and print True if the input matches the value of password , otherwise print False ."
   ]
  },
  {
   "cell_type": "code",
   "execution_count": 25,
   "id": "db07808f-b4a0-43d5-bbbd-94bdbef4f389",
   "metadata": {},
   "outputs": [
    {
     "name": "stdin",
     "output_type": "stream",
     "text": [
      "pswrd hffd\n"
     ]
    },
    {
     "name": "stdout",
     "output_type": "stream",
     "text": [
      "False\n"
     ]
    }
   ],
   "source": [
    "password = \"my_password123\"\n",
    "enter_password = input(\"pswrd\")\n",
    "\n",
    "if password == enter_password:\n",
    "   print(True)\n",
    "else:   \n",
    "   print(False)"
   ]
  },
  {
   "cell_type": "code",
   "execution_count": null,
   "id": "14fae1ab-79fc-48f9-8ee2-35aa96c85864",
   "metadata": {
    "jp-MarkdownHeadingCollapsed": true
   },
   "outputs": [],
   "source": [
    "# 8.Assign the value 50 to a variable marks . Increment the value of marks by 5 using the += operator, then print the new value."
   ]
  },
  {
   "cell_type": "code",
   "execution_count": 26,
   "id": "d0fcd904-41d8-40de-ba84-616b21ace543",
   "metadata": {},
   "outputs": [
    {
     "name": "stdout",
     "output_type": "stream",
     "text": [
      "50\n",
      "55\n"
     ]
    }
   ],
   "source": [
    "marks = 50\n",
    "print(marks)\n",
    "marks += 5\n",
    "print(marks)"
   ]
  },
  {
   "cell_type": "code",
   "execution_count": null,
   "id": "7aa805f1-0490-41f4-8abe-784226bf87fe",
   "metadata": {},
   "outputs": [],
   "source": [
    "# 9.Write a program to check if the value of a = 0 and b = 10 satisfies a or b . Print the output and explain why it gives that result."
   ]
  },
  {
   "cell_type": "code",
   "execution_count": 28,
   "id": "b066ec74-1552-47c2-8150-c035b3c3d294",
   "metadata": {},
   "outputs": [
    {
     "name": "stdout",
     "output_type": "stream",
     "text": [
      "10\n"
     ]
    }
   ],
   "source": [
    "a = 0\n",
    "b = 10\n",
    "print(a or b)"
   ]
  },
  {
   "cell_type": "code",
   "execution_count": null,
   "id": "9d2ebe69-f038-439b-812d-8d4d6497c86f",
   "metadata": {},
   "outputs": [],
   "source": [
    "# 10.Use not to negate the value of False and print the result. Explain what the not operator does in Python."
   ]
  },
  {
   "cell_type": "code",
   "execution_count": 31,
   "id": "62b59f04-1e6e-44fc-ba94-1a782d0a7a06",
   "metadata": {},
   "outputs": [
    {
     "data": {
      "text/plain": [
       "True"
      ]
     },
     "execution_count": 31,
     "metadata": {},
     "output_type": "execute_result"
    }
   ],
   "source": [
    "not False"
   ]
  },
  {
   "cell_type": "code",
   "execution_count": null,
   "id": "0ae3b4c9-ad79-46b2-a00f-df8e79172ddf",
   "metadata": {},
   "outputs": [],
   "source": [
    "the not operator negates the Bool value. When applied to False, it results in True."
   ]
  }
 ],
 "metadata": {
  "kernelspec": {
   "display_name": "Python 3 (ipykernel)",
   "language": "python",
   "name": "python3"
  },
  "language_info": {
   "codemirror_mode": {
    "name": "ipython",
    "version": 3
   },
   "file_extension": ".py",
   "mimetype": "text/x-python",
   "name": "python",
   "nbconvert_exporter": "python",
   "pygments_lexer": "ipython3",
   "version": "3.12.7"
  }
 },
 "nbformat": 4,
 "nbformat_minor": 5
}
